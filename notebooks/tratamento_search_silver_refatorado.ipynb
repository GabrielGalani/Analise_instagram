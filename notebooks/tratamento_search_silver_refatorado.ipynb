{
 "cells": [
  {
   "cell_type": "code",
   "execution_count": 2,
   "metadata": {},
   "outputs": [],
   "source": [
    "from pathlib import Path\n",
    "from datetime import datetime\n",
    "import pandas as pd\n",
    "import os\n",
    "import sys"
   ]
  },
  {
   "cell_type": "markdown",
   "metadata": {},
   "source": [
    "# Variáveis globais"
   ]
  },
  {
   "cell_type": "code",
   "execution_count": 3,
   "metadata": {},
   "outputs": [
    {
     "name": "stdout",
     "output_type": "stream",
     "text": [
      "Hoje: 2024-05-27, period: 05, Year: 2024, day: 27\n"
     ]
    }
   ],
   "source": [
    "today = datetime.now()\n",
    "extract_date = today.strftime('%Y-%m-%d')\n",
    "period = today.strftime('%m')\n",
    "year = today.strftime('%Y')\n",
    "day = today.strftime('%d')\n",
    "\n",
    "# extract_date = '2024-05-20'\n",
    "# period = '05'\n",
    "# year = '2024'\n",
    "# day = '20'\n",
    "\n",
    "\n",
    "print(f'Hoje: {extract_date}, period: {period}, Year: {year}, day: {day}')"
   ]
  },
  {
   "cell_type": "code",
   "execution_count": null,
   "metadata": {},
   "outputs": [],
   "source": []
  },
  {
   "cell_type": "markdown",
   "metadata": {},
   "source": [
    "# Tabelas do banco"
   ]
  },
  {
   "cell_type": "markdown",
   "metadata": {},
   "source": [
    "## TbAccount"
   ]
  },
  {
   "cell_type": "code",
   "execution_count": 6,
   "metadata": {},
   "outputs": [
    {
     "data": {
      "text/html": [
       "<div>\n",
       "<style scoped>\n",
       "    .dataframe tbody tr th:only-of-type {\n",
       "        vertical-align: middle;\n",
       "    }\n",
       "\n",
       "    .dataframe tbody tr th {\n",
       "        vertical-align: top;\n",
       "    }\n",
       "\n",
       "    .dataframe thead th {\n",
       "        text-align: right;\n",
       "    }\n",
       "</style>\n",
       "<table border=\"1\" class=\"dataframe\">\n",
       "  <thead>\n",
       "    <tr style=\"text-align: right;\">\n",
       "      <th></th>\n",
       "      <th>id_account</th>\n",
       "      <th>account_username</th>\n",
       "      <th>account_biography</th>\n",
       "      <th>profile_picture_url</th>\n",
       "      <th>account_name</th>\n",
       "      <th>followers_count</th>\n",
       "      <th>follows_count</th>\n",
       "      <th>media_count</th>\n",
       "    </tr>\n",
       "  </thead>\n",
       "  <tbody>\n",
       "    <tr>\n",
       "      <th>0</th>\n",
       "      <td>17841404384819471</td>\n",
       "      <td>raentretenimento</td>\n",
       "      <td>Um espaço que te conecta aos melhores eventos ...</td>\n",
       "      <td>https://scontent.fcgh8-1.fna.fbcdn.net/v/t51.2...</td>\n",
       "      <td>RA Entretenimento</td>\n",
       "      <td>33681</td>\n",
       "      <td>86</td>\n",
       "      <td>2360</td>\n",
       "    </tr>\n",
       "  </tbody>\n",
       "</table>\n",
       "</div>"
      ],
      "text/plain": [
       "          id_account  account_username  \\\n",
       "0  17841404384819471  raentretenimento   \n",
       "\n",
       "                                   account_biography  \\\n",
       "0  Um espaço que te conecta aos melhores eventos ...   \n",
       "\n",
       "                                 profile_picture_url       account_name  \\\n",
       "0  https://scontent.fcgh8-1.fna.fbcdn.net/v/t51.2...  RA Entretenimento   \n",
       "\n",
       "   followers_count  follows_count  media_count  \n",
       "0            33681             86         2360  "
      ]
     },
     "execution_count": 6,
     "metadata": {},
     "output_type": "execute_result"
    }
   ],
   "source": [
    "file_path = r'C:\\Users\\gabri\\OneDrive\\Documentos\\Projetos\\Instagram_data\\concorrentes\\bronze\\TbAccount.json'\n",
    "data_cabecalho = pd.read_json(file_path, orient='records', dtype={'id': str})\n",
    "data_cabecalho.head()\n",
    "\n",
    "rename_column_cabecalho = {\n",
    "    'id': 'id_account',\n",
    "    'username': 'account_username',\n",
    "    'biography': 'account_biography',\n",
    "    'profile_picture_url': 'profile_picture_url',\n",
    "    'name': 'account_name'\n",
    "}\n",
    "data_cabecalho.rename(columns=rename_column_cabecalho, inplace=True)\n",
    "\n",
    "select_column_cabecalho = ['id_account', 'account_username', 'account_biography', 'profile_picture_url', 'account_name', 'followers_count', 'follows_count', 'media_count']\n",
    "data_cabecalho = data_cabecalho[select_column_cabecalho]\n",
    "data_cabecalho.head()"
   ]
  },
  {
   "cell_type": "markdown",
   "metadata": {},
   "source": [
    "Salvando arquivo"
   ]
  },
  {
   "cell_type": "code",
   "execution_count": 6,
   "metadata": {},
   "outputs": [],
   "source": [
    "cabecalho_output = r'C:\\Users\\gabri\\OneDrive\\Documentos\\Projetos\\Instagram_data\\concorrentes\\silver\\TbCabecalho.csv'\n",
    "data_cabecalho.to_csv(cabecalho_output, sep='\\t')"
   ]
  },
  {
   "cell_type": "markdown",
   "metadata": {},
   "source": []
  },
  {
   "cell_type": "markdown",
   "metadata": {},
   "source": [
    "# TbMidia"
   ]
  },
  {
   "cell_type": "code",
   "execution_count": 6,
   "metadata": {},
   "outputs": [
    {
     "data": {
      "text/html": [
       "<div>\n",
       "<style scoped>\n",
       "    .dataframe tbody tr th:only-of-type {\n",
       "        vertical-align: middle;\n",
       "    }\n",
       "\n",
       "    .dataframe tbody tr th {\n",
       "        vertical-align: top;\n",
       "    }\n",
       "\n",
       "    .dataframe thead th {\n",
       "        text-align: right;\n",
       "    }\n",
       "</style>\n",
       "<table border=\"1\" class=\"dataframe\">\n",
       "  <thead>\n",
       "    <tr style=\"text-align: right;\">\n",
       "      <th></th>\n",
       "      <th>id_account</th>\n",
       "      <th>username</th>\n",
       "      <th>username</th>\n",
       "      <th>id_midia</th>\n",
       "      <th>comments_count</th>\n",
       "      <th>like_count</th>\n",
       "      <th>media_type</th>\n",
       "      <th>media_url</th>\n",
       "      <th>caption</th>\n",
       "      <th>timestamp</th>\n",
       "      <th>permalink</th>\n",
       "      <th>media_product_type</th>\n",
       "      <th>thumbnail_url</th>\n",
       "      <th>extract_date</th>\n",
       "      <th>period</th>\n",
       "      <th>year</th>\n",
       "      <th>day</th>\n",
       "      <th>id_tb_midia</th>\n",
       "    </tr>\n",
       "  </thead>\n",
       "  <tbody>\n",
       "    <tr>\n",
       "      <th>0</th>\n",
       "      <td>17841404384819471</td>\n",
       "      <td>gabgalani</td>\n",
       "      <td>raentretenimento</td>\n",
       "      <td>17999328089373219</td>\n",
       "      <td>0</td>\n",
       "      <td>NaN</td>\n",
       "      <td>CAROUSEL_ALBUM</td>\n",
       "      <td>https://scontent.cdninstagram.com/v/t51.29350-...</td>\n",
       "      <td>O fim de semana chegou ao fim mas daqui a pouc...</td>\n",
       "      <td>2024-05-26 22:32:19+00:00</td>\n",
       "      <td>https://www.instagram.com/p/C7ctTWnuea_/</td>\n",
       "      <td>FEED</td>\n",
       "      <td>NaN</td>\n",
       "      <td>2024-05-27</td>\n",
       "      <td>05</td>\n",
       "      <td>2024</td>\n",
       "      <td>27</td>\n",
       "      <td>1799932808937321920240527</td>\n",
       "    </tr>\n",
       "    <tr>\n",
       "      <th>1</th>\n",
       "      <td>17841404384819471</td>\n",
       "      <td>gabgalani</td>\n",
       "      <td>raentretenimento</td>\n",
       "      <td>18020984945218375</td>\n",
       "      <td>1</td>\n",
       "      <td>NaN</td>\n",
       "      <td>CAROUSEL_ALBUM</td>\n",
       "      <td>https://scontent.cdninstagram.com/v/t51.29350-...</td>\n",
       "      <td>Sextou na Cidade Maravilhosa e tem duas boas f...</td>\n",
       "      <td>2024-05-24 20:49:59+00:00</td>\n",
       "      <td>https://www.instagram.com/p/C7XYADvOV9F/</td>\n",
       "      <td>FEED</td>\n",
       "      <td>NaN</td>\n",
       "      <td>2024-05-27</td>\n",
       "      <td>05</td>\n",
       "      <td>2024</td>\n",
       "      <td>27</td>\n",
       "      <td>1802098494521837520240527</td>\n",
       "    </tr>\n",
       "    <tr>\n",
       "      <th>2</th>\n",
       "      <td>17841404384819471</td>\n",
       "      <td>gabgalani</td>\n",
       "      <td>raentretenimento</td>\n",
       "      <td>18026044757116317</td>\n",
       "      <td>6</td>\n",
       "      <td>30.0</td>\n",
       "      <td>CAROUSEL_ALBUM</td>\n",
       "      <td>https://scontent.cdninstagram.com/v/t51.29350-...</td>\n",
       "      <td>Fim de semana chegando e é claro que aqui você...</td>\n",
       "      <td>2024-05-23 23:26:21+00:00</td>\n",
       "      <td>https://www.instagram.com/p/C7VFGdZOQa1/</td>\n",
       "      <td>FEED</td>\n",
       "      <td>NaN</td>\n",
       "      <td>2024-05-27</td>\n",
       "      <td>05</td>\n",
       "      <td>2024</td>\n",
       "      <td>27</td>\n",
       "      <td>1802604475711631720240527</td>\n",
       "    </tr>\n",
       "    <tr>\n",
       "      <th>3</th>\n",
       "      <td>17841404384819471</td>\n",
       "      <td>gabgalani</td>\n",
       "      <td>raentretenimento</td>\n",
       "      <td>17999548157612924</td>\n",
       "      <td>1</td>\n",
       "      <td>NaN</td>\n",
       "      <td>VIDEO</td>\n",
       "      <td>https://scontent.cdninstagram.com/o1/v/t16/f1/...</td>\n",
       "      <td>A melhor festa de pagode de Caraíva desembarca...</td>\n",
       "      <td>2024-05-23 20:59:23+00:00</td>\n",
       "      <td>https://www.instagram.com/reel/C7U0DMEOzbR/</td>\n",
       "      <td>REELS</td>\n",
       "      <td>https://scontent.cdninstagram.com/v/t51.29350-...</td>\n",
       "      <td>2024-05-27</td>\n",
       "      <td>05</td>\n",
       "      <td>2024</td>\n",
       "      <td>27</td>\n",
       "      <td>1799954815761292420240527</td>\n",
       "    </tr>\n",
       "    <tr>\n",
       "      <th>4</th>\n",
       "      <td>17841404384819471</td>\n",
       "      <td>gabgalani</td>\n",
       "      <td>raentretenimento</td>\n",
       "      <td>18434918029040696</td>\n",
       "      <td>0</td>\n",
       "      <td>NaN</td>\n",
       "      <td>VIDEO</td>\n",
       "      <td>NaN</td>\n",
       "      <td>O Churrasquinho Menos é Mais, está chegando pa...</td>\n",
       "      <td>2024-05-22 23:25:56+00:00</td>\n",
       "      <td>https://www.instagram.com/reel/C7SgE26ueg3/</td>\n",
       "      <td>REELS</td>\n",
       "      <td>https://scontent.cdninstagram.com/v/t51.29350-...</td>\n",
       "      <td>2024-05-27</td>\n",
       "      <td>05</td>\n",
       "      <td>2024</td>\n",
       "      <td>27</td>\n",
       "      <td>1843491802904069620240527</td>\n",
       "    </tr>\n",
       "  </tbody>\n",
       "</table>\n",
       "</div>"
      ],
      "text/plain": [
       "          id_account   username          username           id_midia  \\\n",
       "0  17841404384819471  gabgalani  raentretenimento  17999328089373219   \n",
       "1  17841404384819471  gabgalani  raentretenimento  18020984945218375   \n",
       "2  17841404384819471  gabgalani  raentretenimento  18026044757116317   \n",
       "3  17841404384819471  gabgalani  raentretenimento  17999548157612924   \n",
       "4  17841404384819471  gabgalani  raentretenimento  18434918029040696   \n",
       "\n",
       "   comments_count  like_count      media_type  \\\n",
       "0               0         NaN  CAROUSEL_ALBUM   \n",
       "1               1         NaN  CAROUSEL_ALBUM   \n",
       "2               6        30.0  CAROUSEL_ALBUM   \n",
       "3               1         NaN           VIDEO   \n",
       "4               0         NaN           VIDEO   \n",
       "\n",
       "                                           media_url  \\\n",
       "0  https://scontent.cdninstagram.com/v/t51.29350-...   \n",
       "1  https://scontent.cdninstagram.com/v/t51.29350-...   \n",
       "2  https://scontent.cdninstagram.com/v/t51.29350-...   \n",
       "3  https://scontent.cdninstagram.com/o1/v/t16/f1/...   \n",
       "4                                                NaN   \n",
       "\n",
       "                                             caption  \\\n",
       "0  O fim de semana chegou ao fim mas daqui a pouc...   \n",
       "1  Sextou na Cidade Maravilhosa e tem duas boas f...   \n",
       "2  Fim de semana chegando e é claro que aqui você...   \n",
       "3  A melhor festa de pagode de Caraíva desembarca...   \n",
       "4  O Churrasquinho Menos é Mais, está chegando pa...   \n",
       "\n",
       "                  timestamp                                    permalink  \\\n",
       "0 2024-05-26 22:32:19+00:00     https://www.instagram.com/p/C7ctTWnuea_/   \n",
       "1 2024-05-24 20:49:59+00:00     https://www.instagram.com/p/C7XYADvOV9F/   \n",
       "2 2024-05-23 23:26:21+00:00     https://www.instagram.com/p/C7VFGdZOQa1/   \n",
       "3 2024-05-23 20:59:23+00:00  https://www.instagram.com/reel/C7U0DMEOzbR/   \n",
       "4 2024-05-22 23:25:56+00:00  https://www.instagram.com/reel/C7SgE26ueg3/   \n",
       "\n",
       "  media_product_type                                      thumbnail_url  \\\n",
       "0               FEED                                                NaN   \n",
       "1               FEED                                                NaN   \n",
       "2               FEED                                                NaN   \n",
       "3              REELS  https://scontent.cdninstagram.com/v/t51.29350-...   \n",
       "4              REELS  https://scontent.cdninstagram.com/v/t51.29350-...   \n",
       "\n",
       "  extract_date period  year day                id_tb_midia  \n",
       "0   2024-05-27     05  2024  27  1799932808937321920240527  \n",
       "1   2024-05-27     05  2024  27  1802098494521837520240527  \n",
       "2   2024-05-27     05  2024  27  1802604475711631720240527  \n",
       "3   2024-05-27     05  2024  27  1799954815761292420240527  \n",
       "4   2024-05-27     05  2024  27  1843491802904069620240527  "
      ]
     },
     "execution_count": 6,
     "metadata": {},
     "output_type": "execute_result"
    }
   ],
   "source": [
    "file_path =r'C:\\Users\\gabri\\OneDrive\\Documentos\\Projetos\\Instagram_data\\concorrentes\\bronze\\TbMedias.json'\n",
    "data_midias_sem_insights = pd.read_json(file_path, orient='records', dtype={'id': str})\n",
    "data_midias_sem_insights\n",
    "dataframes = []\n",
    "owner_df = pd.json_normalize(data_midias_sem_insights['owner']).rename(columns={'id': 'id_account'})\n",
    "df_final_midia = pd.concat([data_midias_sem_insights, owner_df], axis=1)\n",
    "df_final_midia.drop(columns=['owner'], inplace=True)\n",
    "df_final_midia.rename(columns={'id': 'id_midia'}, inplace=True)\n",
    "\n",
    "select_tb_midia = ['id_account', 'username', 'id_midia', 'comments_count', 'like_count',\n",
    "            'media_type', 'media_url', 'caption', 'timestamp', 'permalink',\n",
    "            'media_product_type', 'thumbnail_url']\n",
    "df_tb_midia = df_final_midia[select_tb_midia]\n",
    "df_tb_midia['extract_date'] = extract_date\n",
    "df_tb_midia['period'] = period\n",
    "df_tb_midia['year'] = year\n",
    "df_tb_midia['day'] = day\n",
    "df_tb_midia['id_tb_midia'] = df_tb_midia['id_midia'].astype(str) + df_tb_midia['year'] + df_tb_midia['period'] + df_tb_midia['day']\n",
    "\n",
    "# filtro = df_tb_midia[df_tb_midia['id_midia'] == '18002752616172667']\n",
    "df_tb_midia.head()"
   ]
  },
  {
   "cell_type": "markdown",
   "metadata": {},
   "source": [
    "Salvando arquivo"
   ]
  },
  {
   "cell_type": "code",
   "execution_count": 7,
   "metadata": {},
   "outputs": [],
   "source": [
    "midia_output = r'C:\\Users\\gabri\\OneDrive\\Documentos\\Projetos\\Instagram_data\\concorrentes\\silver\\TbMedias.csv'\n",
    "df_final_midia.to_csv(midia_output, sep='\\t')"
   ]
  },
  {
   "cell_type": "code",
   "execution_count": null,
   "metadata": {},
   "outputs": [],
   "source": []
  },
  {
   "cell_type": "markdown",
   "metadata": {},
   "source": [
    "## Tabela cabeçalho"
   ]
  },
  {
   "cell_type": "markdown",
   "metadata": {},
   "source": [
    "Utiliza o mesmo df da midia"
   ]
  },
  {
   "cell_type": "code",
   "execution_count": 9,
   "metadata": {},
   "outputs": [
    {
     "data": {
      "text/html": [
       "<div>\n",
       "<style scoped>\n",
       "    .dataframe tbody tr th:only-of-type {\n",
       "        vertical-align: middle;\n",
       "    }\n",
       "\n",
       "    .dataframe tbody tr th {\n",
       "        vertical-align: top;\n",
       "    }\n",
       "\n",
       "    .dataframe thead th {\n",
       "        text-align: right;\n",
       "    }\n",
       "</style>\n",
       "<table border=\"1\" class=\"dataframe\">\n",
       "  <thead>\n",
       "    <tr style=\"text-align: right;\">\n",
       "      <th></th>\n",
       "      <th>id_midia</th>\n",
       "      <th>media_type</th>\n",
       "      <th>media_type</th>\n",
       "      <th>media_url</th>\n",
       "      <th>id</th>\n",
       "    </tr>\n",
       "  </thead>\n",
       "  <tbody>\n",
       "    <tr>\n",
       "      <th>0</th>\n",
       "      <td>17999328089373219</td>\n",
       "      <td>CAROUSEL_ALBUM</td>\n",
       "      <td>IMAGE</td>\n",
       "      <td>https://scontent.cdninstagram.com/v/t51.29350-...</td>\n",
       "      <td>17927816951785665</td>\n",
       "    </tr>\n",
       "    <tr>\n",
       "      <th>1</th>\n",
       "      <td>18020984945218375</td>\n",
       "      <td>CAROUSEL_ALBUM</td>\n",
       "      <td>IMAGE</td>\n",
       "      <td>https://scontent.cdninstagram.com/v/t51.29350-...</td>\n",
       "      <td>17927816951785665</td>\n",
       "    </tr>\n",
       "    <tr>\n",
       "      <th>2</th>\n",
       "      <td>18026044757116317</td>\n",
       "      <td>CAROUSEL_ALBUM</td>\n",
       "      <td>IMAGE</td>\n",
       "      <td>https://scontent.cdninstagram.com/v/t51.29350-...</td>\n",
       "      <td>17927816951785665</td>\n",
       "    </tr>\n",
       "    <tr>\n",
       "      <th>3</th>\n",
       "      <td>18060552868567602</td>\n",
       "      <td>CAROUSEL_ALBUM</td>\n",
       "      <td>IMAGE</td>\n",
       "      <td>https://scontent.cdninstagram.com/v/t51.29350-...</td>\n",
       "      <td>17927816951785665</td>\n",
       "    </tr>\n",
       "    <tr>\n",
       "      <th>4</th>\n",
       "      <td>18025158935120064</td>\n",
       "      <td>CAROUSEL_ALBUM</td>\n",
       "      <td>IMAGE</td>\n",
       "      <td>https://scontent.cdninstagram.com/v/t51.29350-...</td>\n",
       "      <td>17927816951785665</td>\n",
       "    </tr>\n",
       "  </tbody>\n",
       "</table>\n",
       "</div>"
      ],
      "text/plain": [
       "            id_midia      media_type media_type  \\\n",
       "0  17999328089373219  CAROUSEL_ALBUM      IMAGE   \n",
       "1  18020984945218375  CAROUSEL_ALBUM      IMAGE   \n",
       "2  18026044757116317  CAROUSEL_ALBUM      IMAGE   \n",
       "3  18060552868567602  CAROUSEL_ALBUM      IMAGE   \n",
       "4  18025158935120064  CAROUSEL_ALBUM      IMAGE   \n",
       "\n",
       "                                           media_url                 id  \n",
       "0  https://scontent.cdninstagram.com/v/t51.29350-...  17927816951785665  \n",
       "1  https://scontent.cdninstagram.com/v/t51.29350-...  17927816951785665  \n",
       "2  https://scontent.cdninstagram.com/v/t51.29350-...  17927816951785665  \n",
       "3  https://scontent.cdninstagram.com/v/t51.29350-...  17927816951785665  \n",
       "4  https://scontent.cdninstagram.com/v/t51.29350-...  17927816951785665  "
      ]
     },
     "execution_count": 9,
     "metadata": {},
     "output_type": "execute_result"
    }
   ],
   "source": [
    "select_carrocel = ['id_midia', 'media_type', 'children']\n",
    "df_carroceu = df_final_midia[select_carrocel]\n",
    "df_carroceu = df_carroceu[df_carroceu['media_type'] == \"CAROUSEL_ALBUM\"]\n",
    "normalized_df = pd.json_normalize(df_carroceu['children'])\n",
    "normalized_df = normalized_df.explode('data')\n",
    "expanded_df = normalized_df.drop(columns='data').join(pd.json_normalize(normalized_df['data']))\n",
    "\n",
    "dataframe_carrocel = pd.concat([df_carroceu.reset_index(drop=True), expanded_df.reset_index(drop=True)], axis=1)\n",
    "dataframe_carrocel.drop(columns='children', inplace=True)\n",
    "dataframe_carrocel.head()"
   ]
  },
  {
   "cell_type": "markdown",
   "metadata": {},
   "source": [
    "Salvando arquivo"
   ]
  },
  {
   "cell_type": "code",
   "execution_count": 10,
   "metadata": {},
   "outputs": [],
   "source": [
    "carrocel_output = r'C:\\Users\\gabri\\OneDrive\\Documentos\\Projetos\\Instagram_data\\concorrentes\\silver\\TbCarrocel.csv'\n",
    "dataframe_carrocel.to_csv(carrocel_output, sep='\\t')"
   ]
  },
  {
   "cell_type": "markdown",
   "metadata": {},
   "source": []
  }
 ],
 "metadata": {
  "kernelspec": {
   "display_name": ".venv",
   "language": "python",
   "name": "python3"
  },
  "language_info": {
   "codemirror_mode": {
    "name": "ipython",
    "version": 3
   },
   "file_extension": ".py",
   "mimetype": "text/x-python",
   "name": "python",
   "nbconvert_exporter": "python",
   "pygments_lexer": "ipython3",
   "version": "3.12.3"
  }
 },
 "nbformat": 4,
 "nbformat_minor": 2
}
