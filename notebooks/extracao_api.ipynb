{
 "cells": [
  {
   "cell_type": "code",
   "execution_count": 27,
   "metadata": {},
   "outputs": [],
   "source": [
    "import requests\n",
    "import json"
   ]
  },
  {
   "cell_type": "code",
   "execution_count": 28,
   "metadata": {},
   "outputs": [],
   "source": [
    "access_token = \"*******\""
   ]
  },
  {
   "cell_type": "code",
   "execution_count": 29,
   "metadata": {},
   "outputs": [],
   "source": [
    "# def get_facebook_pages(access_token):\n",
    "#     url = \"https://graph.facebook.com/v19.0/me/accounts\"\n",
    "#     params = {\n",
    "#         \"access_token\": access_token\n",
    "#     }\n",
    "#     response = requests.get(url, params=params)\n",
    "#     return response.json()\n",
    "\n",
    "# def get_id(access_token, username_required):\n",
    "#         pages_data = get_facebook_pages(access_token)\n",
    "#         for page in pages_data['data']:\n",
    "#                 page_id = page['id']\n",
    "#                 url = f\"https://graph.facebook.com/v19.0/{page_id}\"\n",
    "#                 params = {\n",
    "#                 \"fields\": \"instagram_business_account\",\n",
    "#                 \"access_token\": access_token\n",
    "#                 }\n",
    "#                 response = requests.get(url, params=params)\n",
    "#                 if \"instagram_business_account\" in response.json(): \n",
    "#                         ig_business = response.json()\n",
    "#                         id_ig = ig_business['instagram_business_account']['id']\n",
    "\n",
    "#                         url = f\"https://graph.facebook.com/v19.0/{id_ig}\"\n",
    "#                         params = {\n",
    "#                                 \"fields\": [\"username\"],\n",
    "#                                 \"access_token\": access_token\n",
    "#                         }\n",
    "#                         response = requests.get(url, params=params)\n",
    "\n",
    "#                         username = response.json()['username']\n",
    "#                         if username == username_required:\n",
    "#                                 return username, id_ig"
   ]
  },
  {
   "cell_type": "code",
   "execution_count": 30,
   "metadata": {},
   "outputs": [],
   "source": [
    "def get_facebook_pages(access_token):\n",
    "    url = \"https://graph.facebook.com/v19.0/me/accounts\"\n",
    "    params = {\n",
    "        \"access_token\": access_token\n",
    "    }\n",
    "    response = requests.get(url, params=params)\n",
    "    return response.json()\n",
    "\n",
    "def get_id(access_token, usernames_required):\n",
    "    pages_data = get_facebook_pages(access_token)\n",
    "    ids = []\n",
    "    usernames = []\n",
    "    for page in pages_data['data']:\n",
    "        page_id = page['id']\n",
    "        url = f\"https://graph.facebook.com/v19.0/{page_id}\"\n",
    "        params = {\n",
    "            \"fields\": \"instagram_business_account\",\n",
    "            \"access_token\": access_token\n",
    "        }\n",
    "        response = requests.get(url, params=params)\n",
    "        if \"instagram_business_account\" in response.json(): \n",
    "            ig_business = response.json()\n",
    "            id_ig = ig_business['instagram_business_account']['id']\n",
    "\n",
    "            url = f\"https://graph.facebook.com/v19.0/{id_ig}\"\n",
    "            params = {\n",
    "                \"fields\": \"username\",\n",
    "                \"access_token\": access_token\n",
    "            }\n",
    "            response = requests.get(url, params=params)\n",
    "\n",
    "            username = response.json()['username']\n",
    "            if username in usernames_required:\n",
    "                ids.append((username, id_ig))\n",
    "    \n",
    "    return ids"
   ]
  },
  {
   "cell_type": "code",
   "execution_count": 31,
   "metadata": {},
   "outputs": [
    {
     "name": "stdout",
     "output_type": "stream",
     "text": [
      "[('bodemeier.digital', '17841425444516188'), ('gabgalani', '17841417530400616')]\n"
     ]
    }
   ],
   "source": [
    "id_ig = get_id(access_token, ['gabgalani', 'bodemeier.digital'])\n",
    "print(id_ig)"
   ]
  },
  {
   "cell_type": "markdown",
   "metadata": {},
   "source": [
    "Função para dados lifetime"
   ]
  },
  {
   "cell_type": "code",
   "execution_count": 32,
   "metadata": {},
   "outputs": [],
   "source": [
    "# def get_info(access_token, id_ig, fields, output_path, period):\n",
    "#     url = f\"https://graph.facebook.com/v19.0/{id_ig}\"\n",
    "#     params = {\n",
    "#         \"fields\": \",\".join(fields),\n",
    "#         \"period\": period,\n",
    "#         \"access_token\": access_token\n",
    "#     }\n",
    "    \n",
    "#     all_data = []\n",
    "    \n",
    "#     while url:\n",
    "#         response = requests.get(url, params=params)\n",
    "#         data = response.json()\n",
    "        \n",
    "#         # Verifique se a resposta contém erros\n",
    "#         if 'error' in data:\n",
    "#             print(f\"Error: {data['error']['message']}\")\n",
    "#             break\n",
    "        \n",
    "#         # Adicione os dados da página atual à lista de todos os dados\n",
    "#         if 'data' in data:\n",
    "#             all_data.extend(data['data'])\n",
    "#         else:\n",
    "#             all_data.append(data)\n",
    "        \n",
    "#         # Verifique se há uma próxima página\n",
    "#         url = data.get('paging', {}).get('next', None)\n",
    "        \n",
    "#         # Após a primeira solicitação, remova os parâmetros para evitar duplicidade\n",
    "#         params = {}\n",
    "    \n",
    "#     # Escreva todos os dados em um arquivo\n",
    "#     with open(output_path, 'w') as json_file:\n",
    "#         json.dump(all_data, json_file, indent=4)"
   ]
  },
  {
   "cell_type": "code",
   "execution_count": 33,
   "metadata": {},
   "outputs": [],
   "source": [
    "def get_info(access_token, ids, fields, output_path, period):\n",
    "    all_data = []\n",
    "\n",
    "    for username, id_ig in ids:\n",
    "        url = f\"https://graph.facebook.com/v19.0/{id_ig}\"\n",
    "        params = {\n",
    "            \"fields\": \",\".join(fields),\n",
    "            \"period\": period,\n",
    "            \"access_token\": access_token\n",
    "        }\n",
    "\n",
    "        while url:\n",
    "            response = requests.get(url, params=params)\n",
    "            data = response.json()\n",
    "\n",
    "            # Verifique se a resposta contém erros\n",
    "            if 'error' in data:\n",
    "                print(f\"Error fetching data for {username}: {data['error']['message']}\")\n",
    "                break\n",
    "\n",
    "            # Adicione os dados da página atual à lista de todos os dados\n",
    "            if 'data' in data:\n",
    "                for item in data['data']:\n",
    "                    item['username'] = username  # Adicione o username aos dados\n",
    "                    all_data.append(item)\n",
    "            else:\n",
    "                data['username'] = username  # Adicione o username aos dados\n",
    "                all_data.append(data)\n",
    "\n",
    "            # Verifique se há uma próxima página\n",
    "            url = data.get('paging', {}).get('next', None)\n",
    "\n",
    "            # Após a primeira solicitação, remova os parâmetros para evitar duplicidade\n",
    "            params = {}\n",
    "\n",
    "    # Escreva todos os dados em um arquivo\n",
    "    with open(output_path, 'w') as json_file:\n",
    "        json.dump(all_data, json_file, indent=4)"
   ]
  },
  {
   "cell_type": "markdown",
   "metadata": {},
   "source": [
    "## Coletando cabeçalho de 3 em 3 dias "
   ]
  },
  {
   "cell_type": "code",
   "execution_count": 34,
   "metadata": {},
   "outputs": [],
   "source": [
    "# Roda de 3 em 3 dias\n",
    "\n",
    "fields = ['id','username','name','biography', 'followers_count','follows_count', 'profile_picture_url', 'media_count']\n",
    "output_path = r'C:\\Users\\gabri\\OneDrive\\Documentos\\Projetos\\Instagram_data\\api\\tbAccount_ig.json'\n",
    "get_info(access_token, id_ig, fields, output_path, 'lifetime')"
   ]
  },
  {
   "cell_type": "markdown",
   "metadata": {},
   "source": [
    "## Coletando medias sem insights(Rodar a primeira vez geral, depois rodar 1 vez ao dia, e uma vez na semana rodar todo periodo)"
   ]
  },
  {
   "cell_type": "code",
   "execution_count": 35,
   "metadata": {},
   "outputs": [],
   "source": [
    "# fields=\n",
    "# media{comments_count,like_count, media_type, media_url, caption, timestamp, permalink, media_product_type, thumbnail_url, shortcode, children{media_type, media_url, id}, owner{id, username}, comments{username, text, timestamp}, insights.metric(reach, impressions, engagement)}"
   ]
  },
  {
   "cell_type": "code",
   "execution_count": 36,
   "metadata": {},
   "outputs": [],
   "source": [
    "output_path = r'C:\\Users\\gabri\\OneDrive\\Documentos\\Projetos\\Instagram_data\\api\\TbMedias.json'\n",
    "fields_no_insights = [\n",
    "    'id','media{id, ad_id, comments_count,like_count, media_type, media_url, caption, timestamp, permalink, media_product_type, thumbnail_url, shortcode, children{media_type, media_url}, owner{id, username}}'\n",
    "]\n",
    "get_info(access_token, id_ig, fields_no_insights, output_path, 'lifetime')"
   ]
  },
  {
   "cell_type": "markdown",
   "metadata": {},
   "source": [
    "## Coletando os dados dos stroires sem insigts (rodar diáriamente)"
   ]
  },
  {
   "cell_type": "markdown",
   "metadata": {},
   "source": []
  },
  {
   "cell_type": "code",
   "execution_count": 37,
   "metadata": {},
   "outputs": [],
   "source": [
    "# 17841417530400616?fields=\n",
    "# stories{comments_count,like_count, media_type, media_url, caption, timestamp, permalink, media_product_type, thumbnail_url, shortcode, children{media_type, media_url, id}, owner{id, username}, insights.metric(reach, impressions, engagement)}\n",
    "# 17841417530400616?fields=\n",
    "# stories{comments_count,like_count, media_type, media_url, caption, timestamp, permalink, media_product_type, thumbnail_url, shortcode, children{media_type, media_url, id}, owner{id, username}}"
   ]
  },
  {
   "cell_type": "code",
   "execution_count": 38,
   "metadata": {},
   "outputs": [],
   "source": [
    "\n",
    "fields_story_no_in = [\n",
    "    'id, stories{comments_count,like_count, media_type, media_url, caption, timestamp, permalink, media_product_type, thumbnail_url, shortcode, children{media_type, media_url, id}, owner{id, username}}'\n",
    "]\n",
    "output_path = r'C:\\Users\\gabri\\OneDrive\\Documentos\\Projetos\\Instagram_data\\api\\TbStories.json'\n",
    "get_info(access_token, id_ig, fields_story_no_in, output_path, 'day')"
   ]
  },
  {
   "cell_type": "code",
   "execution_count": null,
   "metadata": {},
   "outputs": [],
   "source": []
  },
  {
   "cell_type": "markdown",
   "metadata": {},
   "source": [
    "# Dados da conta com insights"
   ]
  },
  {
   "cell_type": "markdown",
   "metadata": {},
   "source": [
    "## Day level metrics (Baixar giariamente)"
   ]
  },
  {
   "cell_type": "code",
   "execution_count": 39,
   "metadata": {},
   "outputs": [],
   "source": [
    "# impressions, reach, follower_count, email_contacts, phone_call_clicks, text_message_clicks, get_directions_clicks, website_clicks, profile_views"
   ]
  },
  {
   "cell_type": "code",
   "execution_count": 40,
   "metadata": {},
   "outputs": [],
   "source": [
    "output_path = r'C:\\Users\\gabri\\OneDrive\\Documentos\\Projetos\\Instagram_data\\api\\TbDayAccounIgMetrics.json'\n",
    "day_level_metrics = [\n",
    "  'id, insights.metric(impressions, reach, follower_count,email_contacts, phone_call_clicks, text_message_clicks,get_directions_clicks,website_clicks,profile_views).period(day)'\n",
    "]\n",
    "get_info(access_token, id_ig, day_level_metrics, output_path, 'day')"
   ]
  },
  {
   "cell_type": "markdown",
   "metadata": {},
   "source": [
    "## Lifetime level metrics  (diariamente)"
   ]
  },
  {
   "cell_type": "code",
   "execution_count": 41,
   "metadata": {},
   "outputs": [],
   "source": [
    "output_path = r'C:\\Users\\gabri\\OneDrive\\Documentos\\Projetos\\Instagram_data\\api\\TbLifetimeAccounIgMetrics.json'\n",
    "lifetime_level_metrics = [\n",
    "'id, insights.metric(audience_gender_age, audience_locale, audience_country, audience_city, online_followers).period(lifetime)'\n",
    "]\n",
    "get_info(access_token, id_ig, lifetime_level_metrics, output_path, 'lifetime')"
   ]
  },
  {
   "cell_type": "code",
   "execution_count": null,
   "metadata": {},
   "outputs": [],
   "source": []
  },
  {
   "cell_type": "markdown",
   "metadata": {},
   "source": [
    "# Dados da midia com Insights"
   ]
  },
  {
   "cell_type": "code",
   "execution_count": 42,
   "metadata": {},
   "outputs": [
    {
     "name": "stdout",
     "output_type": "stream",
     "text": [
      "Error fetching data for gabgalani: Invalid parameter\n"
     ]
    }
   ],
   "source": [
    "output_path = r'C:\\Users\\gabri\\OneDrive\\Documentos\\Projetos\\Instagram_data\\api\\TbMediaInsightsLifetime.json'\n",
    "lifetime_level_metrics = [\n",
    "'id, media{id, insights.metric(impressions, reach, taps_forward, taps_back, exits, replies, engagement, saved, video_views)}']\n",
    "get_info(access_token, id_ig, lifetime_level_metrics, output_path, 'lifetime')"
   ]
  },
  {
   "cell_type": "markdown",
   "metadata": {},
   "source": [
    "## Dados dos stories com insghts"
   ]
  },
  {
   "cell_type": "code",
   "execution_count": 43,
   "metadata": {},
   "outputs": [],
   "source": [
    "output_path = r'C:\\Users\\gabri\\OneDrive\\Documentos\\Projetos\\Instagram_data\\api\\TbStoriesInsightsLifetime.json'\n",
    "lifetime_level_metrics_stories = [\n",
    "'id, stories{id, insights.metric(exits, impressions, reach, replies, taps_forward, taps_back)}']\n",
    "get_info(access_token, id_ig, lifetime_level_metrics_stories, output_path, 'lifetime')"
   ]
  },
  {
   "cell_type": "code",
   "execution_count": null,
   "metadata": {},
   "outputs": [],
   "source": []
  },
  {
   "cell_type": "markdown",
   "metadata": {},
   "source": [
    "## ADS"
   ]
  },
  {
   "cell_type": "code",
   "execution_count": 44,
   "metadata": {},
   "outputs": [
    {
     "name": "stdout",
     "output_type": "stream",
     "text": [
      "Error fetching data for bodemeier.digital: (#100) Tried accessing nonexisting field (ads_posts) on node type (IGUser)\n",
      "Error fetching data for gabgalani: (#100) Tried accessing nonexisting field (ads_posts) on node type (IGUser)\n"
     ]
    }
   ],
   "source": [
    "output_path = r'C:\\Users\\gabri\\OneDrive\\Documentos\\Projetos\\Instagram_data\\api\\TESTE_ADS.json'\n",
    "lifetime_level_metrics_stories = [\n",
    "'ads_posts{actions}'\n",
    "]\n",
    "get_info(token_ads, id_ig, lifetime_level_metrics_stories, output_path, 'lifetime')"
   ]
  },
  {
   "cell_type": "markdown",
   "metadata": {},
   "source": [
    "chamada adsset"
   ]
  },
  {
   "cell_type": "code",
   "execution_count": 45,
   "metadata": {},
   "outputs": [],
   "source": [
    "# act_124317524325975/adsets?fields=id,name, status,promoted_object, daily_budget, lifetime_budget, start_time, end_time, targeting, bid_strategy, optimization_goal, billing_event"
   ]
  }
 ],
 "metadata": {
  "kernelspec": {
   "display_name": ".venv",
   "language": "python",
   "name": "python3"
  },
  "language_info": {
   "codemirror_mode": {
    "name": "ipython",
    "version": 3
   },
   "file_extension": ".py",
   "mimetype": "text/x-python",
   "name": "python",
   "nbconvert_exporter": "python",
   "pygments_lexer": "ipython3",
   "version": "3.12.3"
  }
 },
 "nbformat": 4,
 "nbformat_minor": 2
}
